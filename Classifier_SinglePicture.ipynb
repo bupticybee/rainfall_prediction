{
 "cells": [
  {
   "cell_type": "code",
   "execution_count": 1,
   "metadata": {
    "collapsed": false
   },
   "outputs": [],
   "source": [
    "import numpy as np\n",
    "train_x = np.load(\"train_x.npy\")\n",
    "train_y = np.load(\"train_y.npy\")\n",
    "test_x = np.load(\"test_x.npy\")\n",
    "test_y = np.load(\"test_y.npy\")\n",
    "import tensorflow as tf"
   ]
  },
  {
   "cell_type": "code",
   "execution_count": 2,
   "metadata": {
    "collapsed": false
   },
   "outputs": [],
   "source": [
    "from scipy import misc\n",
    "train_x = train_x.reshape(60 * 8000, 101, 101)\n",
    "test_x = test_x.reshape(60 * 2000, 101, 101)"
   ]
  },
  {
   "cell_type": "code",
   "execution_count": 3,
   "metadata": {
    "collapsed": false
   },
   "outputs": [],
   "source": [
    "new_train_x = []\n",
    "for i in range(60 * 8000):\n",
    "    new_train_x.append(misc.imresize(train_x[i], (128, 128)))\n",
    "\n",
    "new_test_x = []\n",
    "for i in range(60 * 2000):\n",
    "    new_test_x.append(misc.imresize(test_x[i], (128, 128)))"
   ]
  },
  {
   "cell_type": "code",
   "execution_count": 4,
   "metadata": {
    "collapsed": false
   },
   "outputs": [],
   "source": [
    "train_x = np.asarray(new_train_x, dtype=np.uint8)\n",
    "test_x = np.asarray(new_test_x, dtype=np.uint8)"
   ]
  },
  {
   "cell_type": "code",
   "execution_count": 9,
   "metadata": {
    "collapsed": false
   },
   "outputs": [
    {
     "data": {
      "text/plain": [
       "((480000, 128, 128), (120000, 128, 128))"
      ]
     },
     "execution_count": 9,
     "metadata": {},
     "output_type": "execute_result"
    }
   ],
   "source": [
    "train_x.reshape(8000 * 60, 128, 128)\n",
    "test_x.reshape(2000 * 60, 128, 128)\n",
    "train_x = np.asarray(train_x, dtype=np.uint8)\n",
    "test_x = np.asarray(test_x, dtype=np.uint8)\n",
    "train_x.shape, test_x.shape"
   ]
  },
  {
   "cell_type": "code",
   "execution_count": 10,
   "metadata": {
    "collapsed": true
   },
   "outputs": [],
   "source": [
    "train_y = np.repeat(train_y, 60)\n",
    "test_y = np.repeat(test_y, 60)\n",
    "train_y = np.apply_along_axis(lambda x: 1 if x >= 20 else 0, 1, train_y.reshape(60 * 8000, 1))\n",
    "test_y = np.apply_along_axis(lambda x: 1 if x >= 20 else 0, 1, test_y.reshape(60 * 2000, 1))\n",
    "train_y = np.repeat(train_y, 2)\n",
    "test_y = np.repeat(test_y, 2)\n",
    "\n",
    "for i in range(0, 60 * 8000):\n",
    "    if (train_y[2 * i] == 0):\n",
    "        train_y[2 * i] = 1\n",
    "    else:\n",
    "        train_y[2 * i] = 0\n",
    "\n",
    "for i in range(0, 60 * 2000):\n",
    "    if (test_y[2 * i] == 0):\n",
    "        test_y[2 * i] = 1\n",
    "    else:\n",
    "        test_y[2 * i] = 0"
   ]
  },
  {
   "cell_type": "code",
   "execution_count": 13,
   "metadata": {
    "collapsed": false
   },
   "outputs": [],
   "source": [
    "train_y = np.asarray(train_y, dtype=np.float32).reshape(60 * 8000, 2)\n",
    "test_y = np.asarray(test_y, dtype=np.float32).reshape(60 * 2000, 2)"
   ]
  },
  {
   "cell_type": "code",
   "execution_count": 14,
   "metadata": {
    "collapsed": false
   },
   "outputs": [
    {
     "data": {
      "text/plain": [
       "((480000, 2), (120000, 2))"
      ]
     },
     "execution_count": 14,
     "metadata": {},
     "output_type": "execute_result"
    }
   ],
   "source": [
    "train_y.shape, test_y.shape"
   ]
  },
  {
   "cell_type": "code",
   "execution_count": 15,
   "metadata": {
    "collapsed": true
   },
   "outputs": [],
   "source": [
    "config = tf.ConfigProto()\n",
    "config.gpu_options.per_process_gpu_memory_fraction = 0.6\n",
    "sess = tf.Session(config=config)"
   ]
  },
  {
   "cell_type": "code",
   "execution_count": 35,
   "metadata": {
    "collapsed": false
   },
   "outputs": [],
   "source": [
    "n_input = 128 * 128\n",
    "x = tf.placeholder(tf.uint8, shape=[None, 128, 128], name=\"x\")\n",
    "y_ = tf.placeholder(tf.float32, shape=[None, 2], name=\"y_\")\n",
    "\n",
    "def weight_variable(shape):\n",
    "    initial = tf.truncated_normal(shape, stddev = 0.1)\n",
    "    return tf.Variable(initial)\n",
    "def bias_variable(shape):\n",
    "    initial = tf.constant(0.1, shape=shape)\n",
    "    return tf.Variable(initial)\n",
    "\n",
    "def conv2d(x, W):\n",
    "    return tf.nn.conv2d(x, W ,strides=[1, 1, 1 ,1], padding=\"SAME\")\n",
    "def max_pool_4x4(x):\n",
    "    return tf.nn.max_pool(x, ksize=[1, 4, 4, 1],\n",
    "                         strides=[1, 4, 4, 1], padding=\"SAME\")\n",
    "\n",
    "# First Convolutional Layer\n",
    "W_conv1 = weight_variable([5, 5, 1, 32])\n",
    "b_conv1 = bias_variable([32])\n",
    "\n",
    "x_image = tf.reshape(x, [-1, 128, 128, 1])\n",
    "float_x = tf.to_float(x_image)\n",
    "h_conv1 = tf.nn.relu(conv2d(float_x, W_conv1) + b_conv1)\n",
    "h_pool1 = max_pool_4x4(h_conv1)\n",
    "\n",
    "# Secondary Convolution Layer\n",
    "W_conv2 = weight_variable([5, 5, 32, 64])\n",
    "b_conv2 = bias_variable([64])\n",
    "\n",
    "h_conv2 = tf.nn.relu(conv2d(h_pool1, W_conv2) + b_conv2)\n",
    "h_pool2 = max_pool_4x4(h_conv2)\n",
    "\n",
    "# Densely Connected Layer\n",
    "W_fc1 = weight_variable([8 * 8 * 64, 1024])\n",
    "b_fc1 = bias_variable([1024])\n",
    "\n",
    "h_pool2_flat = tf.reshape(h_pool2, [-1, 8 * 8 * 64])\n",
    "h_fc1 = tf.nn.relu(tf.matmul(h_pool2_flat, W_fc1) + b_fc1)\n",
    "\n",
    "# Dropout\n",
    "keep_prob = tf.placeholder(tf.float32, name=\"drop\")\n",
    "h_fc1_drop = tf.nn.dropout(h_fc1, keep_prob)\n",
    "\n",
    "# Read Layer\n",
    "W_fc2 = weight_variable([1024, 2])\n",
    "b_fc2 = bias_variable([2])\n",
    "\n",
    "y_conv = tf.matmul(h_fc1_drop, W_fc2) + b_fc2"
   ]
  },
  {
   "cell_type": "code",
   "execution_count": 36,
   "metadata": {
    "collapsed": true
   },
   "outputs": [],
   "source": [
    "cross_entropy = tf.reduce_mean(tf.nn.softmax_cross_entropy_with_logits(labels=y_, logits=y_conv))\n",
    "train_step = tf.train.AdamOptimizer(1e-4).minimize(cross_entropy)\n",
    "correct_prediction = tf.equal(tf.argmax(y_conv,1), tf.argmax(y_,1))\n",
    "accuracy = tf.reduce_mean(tf.cast(correct_prediction, tf.float32))"
   ]
  },
  {
   "cell_type": "code",
   "execution_count": 22,
   "metadata": {
    "collapsed": false
   },
   "outputs": [],
   "source": [
    "from sklearn.utils import shuffle\n",
    "train_x, train_y = shuffle(train_x, train_y, random_state = 0)\n",
    "test_x, test_y = shuffle(test_x, test_y, random_state = 0)"
   ]
  },
  {
   "cell_type": "code",
   "execution_count": 37,
   "metadata": {
    "collapsed": true
   },
   "outputs": [],
   "source": [
    "sess.run(tf.global_variables_initializer())"
   ]
  },
  {
   "cell_type": "code",
   "execution_count": null,
   "metadata": {
    "collapsed": false
   },
   "outputs": [
    {
     "name": "stdout",
     "output_type": "stream",
     "text": [
      "40.00 % "
     ]
    }
   ],
   "source": [
    "import sys\n",
    "train_size = 40\n",
    "test_size = 100\n",
    "def get_batch_train(x, y, i, train_size):\n",
    "    return x[i * train_size: (i + 1) * train_size], y[i * train_size: (i + 1) * train_size]\n",
    "\n",
    "def get_batch_test(x, y, i, test_size):\n",
    "    return x[i * test_size: (i + 1) * test_size], y[i * test_size: (i + 1) * test_size]\n",
    "\n",
    "total_train_iteration = len(train_x) / train_size\n",
    "for i in range(4000):\n",
    "    for train_batch_step in range(int(total_train_iteration)):\n",
    "        if train_batch_step % 400 == 0:\n",
    "            str_log = (\"%.2f %% \" % (train_batch_step * 100 / total_train_iteration))\n",
    "            sys.stdout.write('\\r' + str_log)\n",
    "        batch_x, batch_y = get_batch_train(train_x, train_y, train_batch_step, train_size)\n",
    "        sess.run(train_step, feed_dict={x: batch_x, y_: batch_y, keep_prob: 0.5})\n",
    "    \n",
    "    total_iteration = len(test_x) / test_size\n",
    "    total_accuracy = 0.0\n",
    "    print(\"start evaluate\")\n",
    "    for test_batch_step in range(int(total_iteration)):\n",
    "        test_batch_x, test_batch_y = get_batch_test(test_x, test_y, test_batch_step, test_size)\n",
    "        total_accuracy += accuracy.eval(feed_dict={\n",
    "            x:test_batch_x, y_: test_batch_y, keep_prob: 1.0}, session=sess)\n",
    "    \n",
    "    print(\"step %d, training accuracy %g\"%(i, total_accuracy / total_iteration))"
   ]
  },
  {
   "cell_type": "code",
   "execution_count": null,
   "metadata": {
    "collapsed": false
   },
   "outputs": [],
   "source": [
    "y_result = tf.nn.softmax(y_conv)\n",
    "test = sess.run(y_result, feed_dict = {x: train_x[110:130], keep_prob: 0.5})"
   ]
  },
  {
   "cell_type": "code",
   "execution_count": null,
   "metadata": {
    "collapsed": false
   },
   "outputs": [],
   "source": [
    "saver = tf.train.Saver()\n",
    "save_path = saver.save(sess, \"my_model/4_level_cnn/54step.ckpt\")"
   ]
  },
  {
   "cell_type": "code",
   "execution_count": null,
   "metadata": {
    "collapsed": true
   },
   "outputs": [],
   "source": [
    "import numpy as np\n",
    "train_x = np.load(\"data/single/train_x.npy\")\n",
    "train_y = np.load(\"data/single/train_y.npy\")\n",
    "test_x = np.load(\"data/single/test_x.npy\")\n",
    "test_y = np.load(\"data/single/test_y.npy\")\n",
    "import tensorflow as tf"
   ]
  },
  {
   "cell_type": "code",
   "execution_count": null,
   "metadata": {
    "collapsed": false
   },
   "outputs": [],
   "source": [
    "feature_x_train = []\n",
    "total_train_iteration = int(len(train_x) / 60)\n",
    "for i in range(total_train_iteration):\n",
    "    result = sess.run(h_fc1, feed_dict={x:train_x[i * 60 : (i + 1) * 60]})\n",
    "    feature_x_train.append(result)\n",
    "    \n",
    "total_test_iteration = int(len(test_x) / 60)\n",
    "for i in range(total_test_iteration):\n",
    "    result = sess.run(h_fc1, feed_dict={x:test_x[i * 60 : (i + 1) * 60]})\n",
    "    feature_x_train.append(result)\n"
   ]
  },
  {
   "cell_type": "code",
   "execution_count": null,
   "metadata": {
    "collapsed": false
   },
   "outputs": [],
   "source": [
    "feature = sess.run(h_fc1, feed_dict={x: train_x[0:1]})"
   ]
  },
  {
   "cell_type": "code",
   "execution_count": null,
   "metadata": {
    "collapsed": false
   },
   "outputs": [],
   "source": [
    "feature_x_train = np.assarray(feature_x_train).reshape(10000, 60 * 1024)"
   ]
  },
  {
   "cell_type": "code",
   "execution_count": null,
   "metadata": {
    "collapsed": false
   },
   "outputs": [],
   "source": [
    "len(feature[0])"
   ]
  },
  {
   "cell_type": "code",
   "execution_count": null,
   "metadata": {
    "collapsed": false
   },
   "outputs": [],
   "source": [
    "total_train_iteration"
   ]
  },
  {
   "cell_type": "code",
   "execution_count": null,
   "metadata": {
    "collapsed": false
   },
   "outputs": [],
   "source": [
    "print(train_x[0 * 60 : (0 + 1) * 60])"
   ]
  },
  {
   "cell_type": "code",
   "execution_count": null,
   "metadata": {
    "collapsed": true
   },
   "outputs": [],
   "source": []
  }
 ],
 "metadata": {
  "anaconda-cloud": {},
  "kernelspec": {
   "display_name": "Python [conda root]",
   "language": "python",
   "name": "conda-root-py"
  },
  "language_info": {
   "codemirror_mode": {
    "name": "ipython",
    "version": 3
   },
   "file_extension": ".py",
   "mimetype": "text/x-python",
   "name": "python",
   "nbconvert_exporter": "python",
   "pygments_lexer": "ipython3",
   "version": "3.5.2"
  }
 },
 "nbformat": 4,
 "nbformat_minor": 1
}

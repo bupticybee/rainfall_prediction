{
 "cells": [
  {
   "cell_type": "code",
   "execution_count": 1,
   "metadata": {
    "collapsed": true
   },
   "outputs": [],
   "source": [
    "import numpy as np"
   ]
  },
  {
   "cell_type": "code",
   "execution_count": 2,
   "metadata": {
    "collapsed": true
   },
   "outputs": [],
   "source": [
    "import tensorflow as tf\n",
    "import sklearn"
   ]
  },
  {
   "cell_type": "code",
   "execution_count": 4,
   "metadata": {
    "collapsed": false
   },
   "outputs": [
    {
     "name": "stdout",
     "output_type": "stream",
     "text": [
      "0.005 0.01 0.015 0.02 0.025 0.03 0.035 0.04 0.045 0.05 0.055 0.06 0.065 0.07 0.075 0.08 0.085 0.09 0.095 0.1 0.105 0.11 0.115 0.12 0.125 0.13 0.135 0.14 0.145 0.15 0.155 0.16 0.165 0.17 0.175 0.18 0.185 0.19 0.195 0.2 0.205 0.21 0.215 0.22 0.225 0.23 0.235 0.24 0.245 0.25 0.255 0.26 0.265 0.27 0.275 0.28 0.285 0.29 0.295 0.3 0.305 0.31 0.315 0.32 0.325 0.33 0.335 0.34 0.345 0.35 0.355 0.36 0.365 0.37 0.375 0.38 0.385 0.39 0.395 0.4 0.405 0.41 0.415 0.42 0.425 0.43 0.435 0.44 0.445 0.45 0.455 0.46 0.465 0.47 0.475 0.48 0.485 0.49 0.495 0.5 0.505 0.51 0.515 0.52 0.525 0.53 0.535 0.54 0.545 0.55 0.555 0.56 0.565 0.57 0.575 0.58 0.585 0.59 0.595 0.6 0.605 0.61 0.615 0.62 0.625 0.63 0.635 0.64 0.645 0.65 0.655 0.66 0.665 0.67 0.675 0.68 0.685 0.69 0.695 0.7 0.705 0.71 0.715 0.72 0.725 0.73 0.735 0.74 0.745 0.75 0.755 0.76 0.765 0.77 0.775 0.78 0.785 0.79 0.795 0.8 0.805 0.81 0.815 0.82 0.825 0.83 0.835 0.84 0.845 0.85 0.855 0.86 0.865 0.87 0.875 0.88 0.885 0.89 0.895 0.9 0.905 0.91 0.915 0.92 0.925 0.93 0.935 0.94 0.945 0.95 0.955 0.96 0.965 0.97 0.975 0.98 0.985 0.99 0.995 1.0 "
     ]
    }
   ],
   "source": [
    "train_x = []\n",
    "train_y = []\n",
    "count = 0\n",
    "with open('CIKM2017_train/train.txt') as fhdl:\n",
    "    for line in fhdl:\n",
    "        count += 1\n",
    "        if count % 50 == 0:\n",
    "            print (float(count) / 10000,end=' '),\n",
    "        linenum,label,datas = line.strip().split(',')\n",
    "        label = float(label)\n",
    "        datas = np.asarray(datas.split(' '),dtype=np.int8)\n",
    "        train_x.append(datas)\n",
    "        train_y.append(label)"
   ]
  },
  {
   "cell_type": "code",
   "execution_count": 3,
   "metadata": {
    "collapsed": true
   },
   "outputs": [],
   "source": [
    "import pickle\n",
    "train_x,train_y = pickle.load(open('data.pkl','rb'))"
   ]
  },
  {
   "cell_type": "code",
   "execution_count": 4,
   "metadata": {
    "collapsed": false
   },
   "outputs": [
    {
     "data": {
      "text/plain": [
       "(10000, 10000)"
      ]
     },
     "execution_count": 4,
     "metadata": {},
     "output_type": "execute_result"
    }
   ],
   "source": [
    "len(train_x),len(train_y)"
   ]
  },
  {
   "cell_type": "code",
   "execution_count": 5,
   "metadata": {
    "collapsed": false
   },
   "outputs": [],
   "source": [
    "from sklearn.cross_validation import train_test_split\n",
    "train_x,test_x,train_y,test_y = train_test_split(train_x,train_y,test_size=0.2,random_state=1123)"
   ]
  },
  {
   "cell_type": "code",
   "execution_count": 6,
   "metadata": {
    "collapsed": false
   },
   "outputs": [],
   "source": [
    "# do not use this now, will cause future shuffle slow\n",
    "#train_x = np.asarray(train_x,dtype=np.int8)\n",
    "test_x = np.asarray(test_x,dtype=np.int8)"
   ]
  },
  {
   "cell_type": "code",
   "execution_count": 7,
   "metadata": {
    "collapsed": false
   },
   "outputs": [
    {
     "data": {
      "text/plain": [
       "(8000, 8000, (2000, 612060), 2000)"
      ]
     },
     "execution_count": 7,
     "metadata": {},
     "output_type": "execute_result"
    }
   ],
   "source": [
    "len(train_x),len(train_y),test_x.shape,len(test_y)"
   ]
  },
  {
   "cell_type": "code",
   "execution_count": 8,
   "metadata": {
    "collapsed": false
   },
   "outputs": [],
   "source": [
    "from sklearn.utils import shuffle\n",
    "#train_x,train_y = shuffle(train_x,train_y)"
   ]
  },
  {
   "cell_type": "code",
   "execution_count": null,
   "metadata": {
    "collapsed": true
   },
   "outputs": [],
   "source": [
    "import pickle\n",
    "#pickle.dump((train_x,train_y),open('data.pkl','wb'))"
   ]
  },
  {
   "cell_type": "code",
   "execution_count": 8,
   "metadata": {
    "collapsed": false
   },
   "outputs": [
    {
     "data": {
      "text/plain": [
       "960000"
      ]
     },
     "execution_count": 8,
     "metadata": {},
     "output_type": "execute_result"
    }
   ],
   "source": [
    "import sys\n",
    "sys.getsizeof(train_x[0]) * 10000"
   ]
  },
  {
   "cell_type": "code",
   "execution_count": 8,
   "metadata": {
    "collapsed": false
   },
   "outputs": [],
   "source": [
    "sample = np.asarray([-2,2],dtype=np.int8)"
   ]
  },
  {
   "cell_type": "code",
   "execution_count": 9,
   "metadata": {
    "collapsed": false
   },
   "outputs": [
    {
     "data": {
      "text/plain": [
       "array([0, 2], dtype=int8)"
      ]
     },
     "execution_count": 9,
     "metadata": {},
     "output_type": "execute_result"
    }
   ],
   "source": [
    "sample[sample < 0] = 0\n",
    "sample"
   ]
  },
  {
   "cell_type": "code",
   "execution_count": 9,
   "metadata": {
    "collapsed": true
   },
   "outputs": [],
   "source": [
    "# process negative value\n",
    "for each_ele in train_x:\n",
    "    each_ele[each_ele < 0] = 0\n",
    "test_x[test_x < 0] = 0"
   ]
  },
  {
   "cell_type": "code",
   "execution_count": 10,
   "metadata": {
    "collapsed": false
   },
   "outputs": [
    {
     "data": {
      "text/plain": [
       "(8000, (2000, 612060))"
      ]
     },
     "execution_count": 10,
     "metadata": {},
     "output_type": "execute_result"
    }
   ],
   "source": [
    "len(train_x),test_x.shape"
   ]
  },
  {
   "cell_type": "code",
   "execution_count": 12,
   "metadata": {
    "collapsed": false,
    "scrolled": false
   },
   "outputs": [
    {
     "name": "stdout",
     "output_type": "stream",
     "text": [
      "WARNING:tensorflow:From <ipython-input-12-e02482f395aa>:22: initialize_all_variables (from tensorflow.python.ops.variables) is deprecated and will be removed after 2017-03-02.\n",
      "Instructions for updating:\n",
      "Use `tf.global_variables_initializer` instead.\n",
      "shuffleing ...\n",
      "itertion 0 train loss: 23.314 test loss: 22.2155  check weights_dic[0] [ 0.  0.  0.  0.  0.  0.  0.  0.  0.  0.]\n",
      "itertion 40 train loss: 18.3213 test loss: 17.4854  check weights_dic[40] [ 12.58865261   9.82677078  10.96589184   4.07967043   6.3548398\n",
      "   6.24123335   8.49040222   6.04288816   9.95133114  10.71684456]\n",
      "shuffleing ...\n",
      "itertion 80 train loss: 17.1917 test loss: 16.9263  check weights_dic[80] [ 20.98364067  14.27559376  18.14370537   8.85242081  10.64202881\n",
      "   9.83480549  12.17229271   8.78020287  12.32275009  16.65918159]\n",
      "itertion 120 train loss: 16.8889 test loss: 16.6531  check weights_dic[120] [ 16.26880074  12.98108101  16.50458717   8.79149437   9.68569565\n",
      "  11.03188992  12.37869358   8.93195057   9.81416035   9.28127193]\n",
      "shuffleing ...\n",
      "itertion 160 train loss: 16.7551 test loss: 16.456  check weights_dic[160] [ 22.00974655  17.65743637  21.0951786   11.68051243  13.00244045\n",
      "  13.79956532  16.55416489  11.83741188  15.1946764   13.06437683]\n",
      "itertion 200 train loss: 16.269 test loss: 16.1082  check weights_dic[200] [ 20.72256851  15.47483063  20.0826149   12.03028107  12.29080963\n",
      "  13.6438942   16.72489166  11.93979263  11.72557831  11.69015026]\n",
      "shuffleing ...\n",
      "itertion 240 train loss: 15.2021 test loss: 15.9701  check weights_dic[240] [ 18.52728462  15.14056301  15.68873692  10.30550861  11.39330864\n",
      "  10.91787624  17.1394043    9.81851673   9.82492828   6.97172117]\n",
      "itertion 280 train loss: 14.8909 test loss: 15.8213  check weights_dic[280] [ 19.63977814  14.61125183  15.80741882  11.25492954  11.75031376\n",
      "  10.33635712  17.97438049  10.34812355  10.02974892   7.07672119]\n",
      "shuffleing ...\n",
      "itertion 320 train loss: 15.0757 test loss: 15.7271  check weights_dic[320] [ 17.53174591  15.6386919   16.333601    11.4313221   12.45721436\n",
      "  12.78611851  19.24596024  12.34747696  11.79924011   3.215451  ]\n",
      "itertion 360 train loss: 14.947 test loss: 15.5899  check weights_dic[360] [ 21.15260887  16.03569984  17.82667351  11.6348753   11.9484005\n",
      "  12.2908144   20.24419594  11.04729557   9.90155888   7.96286392]\n",
      "shuffleing ...\n",
      "itertion 400 train loss: 14.661 test loss: 15.4857  check weights_dic[400] [ 18.99153137  15.92205524  16.80821991  12.03760624  12.29853153\n",
      "  12.7256918   21.3063736   12.54422665  13.07516956   3.09036136]\n",
      "itertion 440 train loss: 14.4242 test loss: 15.4014  check weights_dic[440] [ 19.58847427  15.70702553  17.91427994  11.79860306  11.97245979\n",
      "  12.65494156  21.24194336  12.53617477  11.95106888   3.56173038]\n",
      "shuffleing ...\n",
      "itertion 480 train loss: 14.423 test loss: 15.3705  check weights_dic[480] [ 20.22822571  15.37551212  17.4034481   13.60946369  12.39328671\n",
      "  12.99361515  21.01194191  12.21165466  12.28600979   2.63398051]\n",
      "itertion 520 train loss: 14.4445 test loss: 15.6002  check weights_dic[520] [ 16.68444633  13.73331928  13.27578545  12.68259048  11.08029556\n",
      "  10.87630463  21.59217262  11.89542103  10.50413322  -2.21886516]\n",
      "shuffleing ...\n",
      "itertion 560 train loss: 15.371 test loss: 15.3893  check weights_dic[560] [ 18.20101738  14.17041397  13.72489071  10.48768044  10.54659843\n",
      "  11.03503227  21.72883034  11.6940279    9.45454884  -0.10038469]\n",
      "itertion 600 train loss: 15.0568 test loss: 15.3041  check weights_dic[600] [ 17.62251472  15.04297352  14.18039227  12.10372639  11.16070557\n",
      "  12.05291367  21.8875351   12.19547462  10.82330132  -1.11481607]\n",
      "shuffleing ...\n",
      "itertion 640 train loss: 14.0757 test loss: 15.2007  check weights_dic[640] [ 21.07212067  15.25602341  18.0454998   14.3520565   12.07548141\n",
      "  12.57515717  21.93001747  12.44208336  11.89509678   0.65305215]\n",
      "itertion 680 train loss: 13.9364 test loss: 15.1876  check weights_dic[680] [ 18.79969406  15.19771099  15.93723774  12.68752003  10.5540266\n",
      "  12.59186649  22.07463837  12.49521446  12.16959667  -1.36398983]\n",
      "shuffleing ...\n",
      "itertion 720 train loss: 14.6261 test loss: 15.1083  check weights_dic[720] [ 21.55216217  15.8839941   18.21446037  14.08673859  12.29060268\n",
      "  14.26447582  23.22112274  14.49351406  14.04419613  -0.11100786]\n",
      "itertion 760 train loss: 14.5594 test loss: 15.2199  check weights_dic[760] [ 23.87757111  16.86989784  21.06752968  15.02880287  12.65345383\n",
      "  15.57509708  24.2891407   14.51243782  16.49711609   1.23085296]\n",
      "shuffleing ...\n",
      "itertion 800 train loss: 13.6322 test loss: 15.113  check weights_dic[800] [ 22.13574409  16.02785492  20.26419449  16.12021255  13.01519585\n",
      "  16.3161602   22.38586426  15.20841408  15.44426918  -1.54527771]\n",
      "itertion 840 train loss: 13.7204 test loss: 15.3095  check weights_dic[840] [ 20.04849243  14.32028389  16.30005074  14.77425957  10.71768951\n",
      "  12.2837534   21.81114388  11.81513214  10.65231514  -4.07897902]\n",
      "shuffleing ...\n",
      "itertion 880 train loss: 14.0154 test loss: 15.0907  check weights_dic[880] [ 22.4203434   16.58135796  20.37908745  14.20211887  11.77184296\n",
      "  16.46670151  24.0462513   16.21691704  15.43824959   0.30995327]\n",
      "itertion 920 train loss: 13.7695 test loss: 15.0872  check weights_dic[920] [ 20.8428669   14.25712299  18.02661133  14.30980873  10.08155727\n",
      "  15.03488064  21.32097816  13.97335529  13.15959454  -3.93761826]\n",
      "shuffleing ...\n",
      "itertion 960 train loss: 12.7267 test loss: 15.1124  check weights_dic[960] [ 19.9657917   15.28339386  17.58002472  14.29649258  10.76996708\n",
      "  13.20720768  23.02604485  14.13953876  11.13996315  -4.8305254 ]\n",
      "itertion 1000 train loss: 12.5173 test loss: 15.0546  check weights_dic[1000] [ 20.15161705  15.07151699  17.23136902  14.48260307  11.26979637\n",
      "  13.74262619  22.99028778  14.79987621  13.50775433  -5.92343283]\n",
      "shuffleing ...\n",
      "itertion 1040 train loss: 13.2514 test loss: 14.9533  check weights_dic[1040] [ 20.04431343  15.30687523  18.06972885  13.34266281   9.82157803\n",
      "  14.61945724  23.1839695   14.62388229  13.61590672  -4.77719259]\n",
      "itertion 1080 train loss: 13.0737 test loss: 15.1007  check weights_dic[1080] [ 26.25615692  17.40312958  22.62977028  16.1681366   12.24867249\n",
      "  17.03621674  23.9289093   15.26063538  15.53660774   0.05280002]\n",
      "shuffleing ...\n",
      "itertion 1120 train loss: 13.2024 test loss: 14.8886  check weights_dic[1120] [ 22.00078011  15.89825058  19.07094002  15.1780014   11.39900112\n",
      "  15.45239544  24.12530708  15.95143318  13.66525936  -3.2638104 ]\n",
      "itertion 1160 train loss: 13.1202 test loss: 14.9477  check weights_dic[1160] [ 21.19581985  15.4023037   18.60963249  14.51591873  11.03946686\n",
      "  15.30386162  22.21140862  15.27896309  13.91039085  -6.14211273]\n",
      "shuffleing ...\n",
      "itertion 1200 train loss: 13.1559 test loss: 14.8561  check weights_dic[1200] [ 21.48253059  15.41405487  19.64011192  15.35450554  10.21547127\n",
      "  15.94996738  23.69251442  15.41213226  13.68208027  -4.36678839]\n",
      "itertion 1240 train loss: 12.9614 test loss: 14.8617  check weights_dic[1240] [ 23.19672966  16.05100822  20.41860962  15.49626064  10.76911736\n",
      "  15.61632061  24.29426193  15.72685051  13.78439236  -3.37054586]\n",
      "shuffleing ...\n",
      "itertion 1280 train loss: 12.8783 test loss: 15.0778  check weights_dic[1280] [ 26.04462814  16.93702126  21.16261292  15.54349518  11.4081974\n",
      "  16.45640945  25.51490974  16.49423218  15.5158186   -0.22953817]\n",
      "itertion 1320 train loss: 12.5331 test loss: 14.7886  check weights_dic[1320] [ 23.13852882  16.02344513  18.74243927  13.62422943   8.93934536\n",
      "  14.68483925  24.74438286  14.48062992  12.83137321  -3.32028461]\n",
      "shuffleing ...\n",
      "itertion 1360 train loss: 12.6564 test loss: 15.0627  check weights_dic[1360] [ 19.10161018  15.06947708  18.10064888  15.39934731  11.05775261\n",
      "  15.13611984  22.85479164  16.59791374  12.28712082 -10.23868561]\n",
      "itertion 1400 train loss: 12.2518 test loss: 14.8524  check weights_dic[1400] [ 25.00445938  16.18263626  21.61150551  15.06291771   9.52270222\n",
      "  17.25680923  24.48438454  16.99975967  16.03038788  -2.74337268]\n",
      "shuffleing ...\n",
      "itertion 1440 train loss: 12.9792 test loss: 14.856  check weights_dic[1440] [ 21.27522278  15.52185917  16.75840378  13.60010338   9.67799759\n",
      "  14.40675545  23.97466469  15.45244408  12.42164516  -7.58532333]\n",
      "itertion 1480 train loss: 12.8978 test loss: 14.9277  check weights_dic[1480] [ 19.17888451  14.04469204  15.40447617  13.29470253   9.0520525\n",
      "  13.77265358  23.83067322  15.49777317  10.96339607  -9.22210121]\n",
      "shuffleing ...\n",
      "itertion 1520 train loss: 12.2003 test loss: 14.863  check weights_dic[1520] [ 25.47157478  16.53027725  19.161129    13.94313717   9.74470806\n",
      "  15.36439133  25.07924652  15.29257107  13.32906246  -2.5373497 ]\n",
      "itertion 1560 train loss: 11.9273 test loss: 14.8141  check weights_dic[1560] [ 24.71791649  17.04548645  20.94307137  15.39591694  11.13916492\n",
      "  17.47582626  24.32497787  15.94599915  15.05683041  -4.7541132 ]\n",
      "shuffleing ...\n",
      "itertion 1600 train loss: 12.6964 test loss: 14.7776  check weights_dic[1600] [ 22.65322304  16.18174362  19.29390907  13.9252367    9.23351192\n",
      "  15.34069157  23.79911613  15.9151907   12.90430737  -7.22350788]\n",
      "itertion 1640 train loss: 12.5295 test loss: 14.7619  check weights_dic[1640] [ 22.24881172  16.10453033  18.04537964  14.079422     8.61523533\n",
      "  16.10129166  24.25160217  16.33598709  15.22466564  -7.01151991]\n",
      "shuffleing ...\n",
      "itertion 1680 train loss: 12.237 test loss: 14.7993  check weights_dic[1680] [ 21.69093513  15.61697483  19.27475357  14.16957283   9.53626919\n",
      "  15.90896797  23.47430611  16.76005936  12.03817463  -8.81458473]\n",
      "itertion 1720 train loss: 12.1703 test loss: 14.8725  check weights_dic[1720] [ 21.53118515  15.33353519  18.34156609  14.10825157   8.97733879\n",
      "  15.37571621  23.23519325  15.51889515  11.20888901  -8.73532867]\n",
      "shuffleing ...\n",
      "itertion 1760 train loss: 12.3006 test loss: 14.7239  check weights_dic[1760] [ 22.94022751  15.72780991  18.58578491  13.99294567   9.06891727\n",
      "  15.92478085  24.66277885  16.51497269  12.83437157  -6.35011005]\n",
      "itertion 1800 train loss: 12.3144 test loss: 14.8357  check weights_dic[1800] [ 21.19424438  14.114995    17.81109428  13.45897675   8.00388241\n",
      "  15.48126125  23.40875435  15.32760048  11.30432892  -8.45560932]\n",
      "shuffleing ...\n",
      "itertion 1840 train loss: 12.1735 test loss: 14.778  check weights_dic[1840] [ 21.75148582  15.60697842  15.95058823  13.02867889   8.77010727\n",
      "  13.96301651  25.0729866   15.81535244  11.82064438  -9.2995491 ]\n",
      "itertion 1880 train loss: 11.9446 test loss: 14.7223  check weights_dic[1880] [ 21.28014755  15.63783646  17.95121002  12.8645134    8.23633385\n",
      "  15.99381256  24.46932983  16.35177994  11.92151737  -8.82201576]\n",
      "shuffleing ...\n",
      "itertion 1920 train loss: 12.8305 test loss: 15.0042  check weights_dic[1920] [ 20.1390419   14.93681335  15.82294941  12.67899036   7.22535992\n",
      "  13.79789639  23.58264732  14.50312614  10.95011139 -11.85420036]\n",
      "itertion 1960 train loss: 12.2245 test loss: 14.7188  check weights_dic[1960] [ 23.62378883  15.92690849  22.2745018   14.81262016   9.64072514\n",
      "  17.03068542  23.34876633  17.33496666  12.40452576  -7.90283012]\n",
      "shuffleing ...\n",
      "itertion 2000 train loss: 11.826 test loss: 14.8837  check weights_dic[2000] [ 20.20989418  15.59512615  16.61731911  12.87477016   7.38336372\n",
      "  15.42709541  24.01021385  15.7971983   13.50965786 -12.22343254]\n",
      "itertion 2040 train loss: 11.4239 test loss: 14.7155  check weights_dic[2040] [ 25.33508492  16.5941925   19.88944054  15.32286263   9.68918037\n",
      "  16.63218307  24.65727997  17.25901031  14.03684044  -6.65662098]\n",
      "shuffleing ...\n",
      "itertion 2080 train loss: 11.5229 test loss: 14.6792  check weights_dic[2080] [ 24.00917625  16.50492477  19.36077499  12.75351524   7.49460459\n",
      "  16.09845161  25.42025948  16.30093956  13.80817986  -7.47941208]\n",
      "itertion 2120 train loss: 11.4486 test loss: 14.7648  check weights_dic[2120] [ 25.81378174  17.4354763   23.35960388  14.77921009   9.32166386\n",
      "  19.35219002  24.15568161  17.67344475  15.67166519  -6.21810579]\n",
      "shuffleing ...\n",
      "itertion 2160 train loss: 11.9169 test loss: 14.7982  check weights_dic[2160] [ 26.35843849  17.44905853  20.87829208  16.20938683  10.3480978\n",
      "  17.25721931  25.47845078  17.48756981  15.18427658  -5.98566866]\n",
      "itertion 2200 train loss: 11.9922 test loss: 14.9939  check weights_dic[2200] [ 27.86455536  18.75041389  24.38804436  17.80336571  11.06610012\n",
      "  19.77694893  25.79823303  18.67668343  16.49864769  -4.85163546]\n",
      "shuffleing ...\n",
      "itertion 2240 train loss: 11.8388 test loss: 14.7385  check weights_dic[2240] [ 23.21161652  16.04385567  20.82957268  13.70149422   8.18983459\n",
      "  17.07907104  22.59911346  16.46190262  12.52208042 -10.13394642]\n",
      "itertion 2280 train loss: 11.5815 test loss: 14.7162  check weights_dic[2280] [ 26.36875343  17.41482735  21.12829399  15.91462135   9.26156998\n",
      "  18.49138832  24.55537224  17.12613487  15.94036579  -7.05360937]\n",
      "shuffleing ...\n",
      "itertion 2320 train loss: 11.2969 test loss: 14.7154  check weights_dic[2320] [ 26.38881493  17.52449799  23.31187057  16.39969826  10.64422417\n",
      "  17.88550568  23.70576859  17.94667244  13.60845184  -7.81479692]\n",
      "itertion 2360 train loss: 11.2398 test loss: 14.7577  check weights_dic[2360] [ 26.60325813  18.03641319  23.34538078  15.46259022   9.58742142\n",
      "  17.91179848  24.55947304  17.85272408  15.22537708  -6.08576345]\n",
      "shuffleing ...\n",
      "itertion 2400 train loss: 11.2639 test loss: 14.677  check weights_dic[2400] [ 25.95500946  16.49017525  21.0065136   15.99009418   9.65301895\n",
      "  16.81517982  24.32986259  17.26063728  12.54433537  -8.1187067 ]\n",
      "itertion 2440 train loss: 11.131 test loss: 14.6589  check weights_dic[2440] [ 24.90246201  17.1785183   20.4355011   15.23133469   8.91489506\n",
      "  17.98574829  24.8109417   17.56225967  13.82017994  -9.17624092]\n",
      "shuffleing ...\n",
      "itertion 2480 train loss: 11.5058 test loss: 14.6617  check weights_dic[2480] [ 25.91048813  16.52461815  21.33114815  14.88022995   8.62007141\n",
      "  16.8615284   23.52261543  16.51099968  12.03916359  -8.30867767]\n",
      "itertion 2520 train loss: 11.4013 test loss: 14.7209  check weights_dic[2520] [ 27.88926697  17.54639816  23.57933044  15.34799385   9.32113743\n",
      "  19.03445435  24.02471924  17.70082092  13.13746643  -5.8385005 ]\n",
      "shuffleing ...\n",
      "itertion 2560 train loss: 10.8652 test loss: 14.7173  check weights_dic[2560] [ 22.84908104  15.86611938  18.21279907  13.78299427   7.56993818\n",
      "  16.09193802  24.17674446  16.26532745  11.51746845 -11.24842262]\n",
      "itertion 2600 train loss: 10.6754 test loss: 14.6307  check weights_dic[2600] [ 25.32790565  16.75894356  20.24117088  14.51494789   8.31153584\n",
      "  16.99047661  24.44753456  17.44524956  13.20018387  -9.08992863]\n",
      "shuffleing ...\n",
      "itertion 2640 train loss: 11.3694 test loss: 14.6768  check weights_dic[2640] [ 24.5555172   15.86893463  19.16174507  13.60126591   7.23364067\n",
      "  16.58841324  23.49543571  16.05596733  10.66111755  -8.94066906]\n",
      "itertion 2680 train loss: 11.2209 test loss: 14.7456  check weights_dic[2680] [ 27.58048439  18.24829102  21.55251122  14.34825516   8.74415016\n",
      "  18.13376808  25.31797409  17.94373131  14.05628204  -6.29469109]\n",
      "shuffleing ...\n",
      "itertion 2720 train loss: 10.73 test loss: 14.648  check weights_dic[2720] [ 25.29628372  17.78721619  22.25851059  15.43143177   9.15354061\n",
      "  18.38326645  24.15810585  18.29028702  13.83771896 -10.00028992]\n",
      "itertion 2760 train loss: 10.9855 test loss: 14.8728  check weights_dic[2760] [ 22.53096962  15.06033707  17.00248909  13.39418793   6.77347183\n",
      "  15.31395721  22.71545792  15.27915668  10.72505474 -12.64517307]\n",
      "shuffleing ...\n",
      "itertion 2800 train loss: 11.4142 test loss: 15.1324  check weights_dic[2800] [ 29.9635849   19.5437336   26.49295425  15.99008942  10.20822239\n",
      "  20.33464241  25.62775612  19.5928421   15.26107025  -4.20666361]\n",
      "itertion 2840 train loss: 10.7237 test loss: 14.7097  check weights_dic[2840] [ 26.91564178  18.19519997  22.08669853  14.92721844   9.62847519\n",
      "  18.50210571  25.12471771  17.90060425  14.96304131  -8.79759598]\n",
      "shuffleing ...\n",
      "itertion 2880 train loss: 11.318 test loss: 14.8536  check weights_dic[2880] [ 29.03118515  18.37490082  25.38046265  17.23867226   9.42135525\n",
      "  20.53338814  24.60453224  18.75615501  15.57719326  -6.3739872 ]\n",
      "itertion 2920 train loss: 11.1315 test loss: 14.7342  check weights_dic[2920] [ 23.01534843  16.10673714  21.5012188   16.09518814   8.08666039\n",
      "  18.09354973  23.28374481  18.26303673  12.08731079 -13.21054459]\n"
     ]
    },
    {
     "ename": "KeyboardInterrupt",
     "evalue": "",
     "output_type": "error",
     "traceback": [
      "\u001b[0;31m---------------------------------------------------------------------------\u001b[0m",
      "\u001b[0;31mKeyboardInterrupt\u001b[0m                         Traceback (most recent call last)",
      "\u001b[0;32m<ipython-input-12-e02482f395aa>\u001b[0m in \u001b[0;36m<module>\u001b[0;34m()\u001b[0m\n\u001b[1;32m     29\u001b[0m         \u001b[0mprint\u001b[0m\u001b[1;33m(\u001b[0m\u001b[1;34m\"shuffleing ...\"\u001b[0m\u001b[1;33m)\u001b[0m\u001b[1;33m\u001b[0m\u001b[0m\n\u001b[1;32m     30\u001b[0m         \u001b[0mtrain_x\u001b[0m\u001b[1;33m,\u001b[0m\u001b[0mtrain_y\u001b[0m \u001b[1;33m=\u001b[0m \u001b[0mshuffle\u001b[0m\u001b[1;33m(\u001b[0m\u001b[0mtrain_x\u001b[0m\u001b[1;33m,\u001b[0m\u001b[0mtrain_y\u001b[0m\u001b[1;33m)\u001b[0m\u001b[1;33m\u001b[0m\u001b[0m\n\u001b[0;32m---> 31\u001b[0;31m     \u001b[0mbatch_xs\u001b[0m\u001b[1;33m,\u001b[0m\u001b[0mbatch_ys\u001b[0m \u001b[1;33m=\u001b[0m \u001b[0mnp\u001b[0m\u001b[1;33m.\u001b[0m\u001b[0masarray\u001b[0m\u001b[1;33m(\u001b[0m\u001b[0mtrain_x\u001b[0m\u001b[1;33m[\u001b[0m\u001b[0mindexbegin\u001b[0m\u001b[1;33m:\u001b[0m\u001b[0mindexbegin\u001b[0m \u001b[1;33m+\u001b[0m \u001b[0mfeed_size\u001b[0m\u001b[1;33m]\u001b[0m\u001b[1;33m,\u001b[0m\u001b[0mdtype\u001b[0m\u001b[1;33m=\u001b[0m\u001b[0mnp\u001b[0m\u001b[1;33m.\u001b[0m\u001b[0mint8\u001b[0m\u001b[1;33m)\u001b[0m\u001b[1;33m,\u001b[0m\u001b[0mtrain_y\u001b[0m\u001b[1;33m[\u001b[0m\u001b[0mindexbegin\u001b[0m\u001b[1;33m:\u001b[0m\u001b[0mindexbegin\u001b[0m \u001b[1;33m+\u001b[0m \u001b[0mfeed_size\u001b[0m\u001b[1;33m]\u001b[0m\u001b[1;33m\u001b[0m\u001b[0m\n\u001b[0m\u001b[1;32m     32\u001b[0m     \u001b[1;32mif\u001b[0m \u001b[0mi\u001b[0m \u001b[1;33m%\u001b[0m \u001b[1;33m(\u001b[0m\u001b[0mlen\u001b[0m\u001b[1;33m(\u001b[0m\u001b[0mtrain_y\u001b[0m\u001b[1;33m)\u001b[0m \u001b[1;33m/\u001b[0m \u001b[1;33m(\u001b[0m\u001b[0mfeed_size\u001b[0m \u001b[1;33m*\u001b[0m \u001b[1;36m2\u001b[0m\u001b[1;33m)\u001b[0m\u001b[1;33m)\u001b[0m \u001b[1;33m==\u001b[0m \u001b[1;36m0\u001b[0m\u001b[1;33m:\u001b[0m\u001b[1;33m\u001b[0m\u001b[0m\n\u001b[1;32m     33\u001b[0m         \u001b[0mprint\u001b[0m\u001b[1;33m(\u001b[0m\u001b[1;34m'itertion %s'\u001b[0m \u001b[1;33m%\u001b[0m \u001b[1;33m(\u001b[0m\u001b[0mi\u001b[0m\u001b[1;33m)\u001b[0m\u001b[1;33m,\u001b[0m\u001b[0mend\u001b[0m\u001b[1;33m=\u001b[0m\u001b[1;34m' '\u001b[0m\u001b[1;33m)\u001b[0m\u001b[1;33m\u001b[0m\u001b[0m\n",
      "\u001b[0;32mC:\\Program Files\\Anaconda3\\lib\\site-packages\\numpy\\core\\numeric.py\u001b[0m in \u001b[0;36masarray\u001b[0;34m(a, dtype, order)\u001b[0m\n\u001b[1;32m    480\u001b[0m \u001b[1;33m\u001b[0m\u001b[0m\n\u001b[1;32m    481\u001b[0m     \"\"\"\n\u001b[0;32m--> 482\u001b[0;31m     \u001b[1;32mreturn\u001b[0m \u001b[0marray\u001b[0m\u001b[1;33m(\u001b[0m\u001b[0ma\u001b[0m\u001b[1;33m,\u001b[0m \u001b[0mdtype\u001b[0m\u001b[1;33m,\u001b[0m \u001b[0mcopy\u001b[0m\u001b[1;33m=\u001b[0m\u001b[1;32mFalse\u001b[0m\u001b[1;33m,\u001b[0m \u001b[0morder\u001b[0m\u001b[1;33m=\u001b[0m\u001b[0morder\u001b[0m\u001b[1;33m)\u001b[0m\u001b[1;33m\u001b[0m\u001b[0m\n\u001b[0m\u001b[1;32m    483\u001b[0m \u001b[1;33m\u001b[0m\u001b[0m\n\u001b[1;32m    484\u001b[0m \u001b[1;32mdef\u001b[0m \u001b[0masanyarray\u001b[0m\u001b[1;33m(\u001b[0m\u001b[0ma\u001b[0m\u001b[1;33m,\u001b[0m \u001b[0mdtype\u001b[0m\u001b[1;33m=\u001b[0m\u001b[1;32mNone\u001b[0m\u001b[1;33m,\u001b[0m \u001b[0morder\u001b[0m\u001b[1;33m=\u001b[0m\u001b[1;32mNone\u001b[0m\u001b[1;33m)\u001b[0m\u001b[1;33m:\u001b[0m\u001b[1;33m\u001b[0m\u001b[0m\n",
      "\u001b[0;31mKeyboardInterrupt\u001b[0m: "
     ]
    }
   ],
   "source": [
    "# TODO use 100% data ,not 80% now\n",
    "\n",
    "weights_dic = {}\n",
    "\n",
    "from sklearn.utils import shuffle\n",
    "feed_size = 100\n",
    "n_input = 101 * 101 * 60\n",
    "X = tf.placeholder(tf.int8,[None,n_input])\n",
    "W = tf.Variable(tf.zeros([n_input,1]),tf.float32)\n",
    "b = tf.Variable([0.0],tf.float32)\n",
    "y = tf.add(tf.matmul(tf.to_float(X),W),b)\n",
    "y_ = tf.placeholder(tf.float32)\n",
    "resm = tf.reduce_sum(tf.pow(tf.transpose(y) - y_,2))\n",
    "\n",
    "val_train_size = 1000\n",
    "\n",
    "train_resm = tf.sqrt(tf.div(tf.reduce_sum(tf.pow(tf.transpose(y) - y_,2)), val_train_size))\n",
    "real_resm = tf.sqrt(tf.div(tf.reduce_sum(tf.pow(tf.transpose(y) - y_,2)), len(test_y)))\n",
    "debug_var = tf.transpose(y) - y_\n",
    "\n",
    "train_step = tf.train.AdamOptimizer(0.0000003).minimize(resm)\n",
    "init = tf.initialize_all_variables()\n",
    "sess = tf.Session()\n",
    "sess.run(init)\n",
    "\n",
    "for i in range(4000):\n",
    "    indexbegin = feed_size * i % len(train_y)\n",
    "    if i % (len(train_y) / (feed_size)) == 0:\n",
    "        print(\"shuffleing ...\")\n",
    "        train_x,train_y = shuffle(train_x,train_y)\n",
    "    batch_xs,batch_ys = np.asarray(train_x[indexbegin:indexbegin + feed_size],dtype=np.int8),train_y[indexbegin:indexbegin + feed_size]\n",
    "    if i % (len(train_y) / (feed_size * 2)) == 0:\n",
    "        print('itertion %s' % (i),end=' ')\n",
    "        curr_loss = sess.run(train_resm,feed_dict={X:train_x[:val_train_size],y_:train_y[:val_train_size]})\n",
    "        print (\"train loss: %s\" % (curr_loss),end=' ')\n",
    "        curr_loss = sess.run(real_resm,feed_dict={X:test_x,y_:test_y})\n",
    "        print (\"test loss: %s\" % (curr_loss),end=\" \")\n",
    "        print(\" check weights_dic[%s]\" % (i),end=\" \")\n",
    "        yy = sess.run(y,feed_dict={X:test_x})\n",
    "        print (yy[:10,0])\n",
    "        debug_val = sess.run(debug_var,feed_dict={X:test_x,y_:test_y})\n",
    "        weights_dic[i] = (sess.run(W),sess.run(b),yy,debug_val)\n",
    "    sess.run(train_step,feed_dict={X:batch_xs,y_:batch_ys})"
   ]
  },
  {
   "cell_type": "code",
   "execution_count": 21,
   "metadata": {
    "collapsed": true
   },
   "outputs": [],
   "source": [
    "import pickle\n",
    "with open('data/4_12_tf_linear_adam_80_precent_weight.plk','wb') as whdl:\n",
    "    pickle.dump(weights_dic,whdl)"
   ]
  },
  {
   "cell_type": "code",
   "execution_count": null,
   "metadata": {
    "collapsed": true
   },
   "outputs": [],
   "source": [
    "import pickle\n",
    "with open('data/4_12_tf_linear_adam_80_precent_weight.plk','rb') as fhdl:\n",
    "    weight_dic = pickle.load(fhdl)"
   ]
  },
  {
   "cell_type": "code",
   "execution_count": 22,
   "metadata": {
    "collapsed": false
   },
   "outputs": [
    {
     "data": {
      "text/plain": [
       "dict_keys([0, 1600, 1680, 2200, 1040, 2080, 1160, 80, 2720, 2320, 2000, 840, 920, 2520, 2160, 280, 640, 2120, 2920, 800, 1520, 440, 960, 1560, 680, 2640, 2040, 760, 1280, 560, 520, 1480, 40, 1080, 2400, 2600, 320, 160, 1920, 2800, 360, 2840, 200, 1200, 2240, 2440, 720, 120, 1880, 1000, 2560, 600, 2480, 1960, 2360, 1840, 480, 1360, 240, 2880, 1800, 1640, 1120, 2680, 880, 1320, 400, 1440, 2280, 1400, 1720, 1240, 1760, 2760])"
      ]
     },
     "execution_count": 22,
     "metadata": {},
     "output_type": "execute_result"
    }
   ],
   "source": [
    "weights_dic.keys()"
   ]
  },
  {
   "cell_type": "code",
   "execution_count": 32,
   "metadata": {
    "collapsed": true
   },
   "outputs": [],
   "source": [
    "del train_x\n",
    "del train_y\n",
    "del test_x\n",
    "del test_y"
   ]
  },
  {
   "cell_type": "code",
   "execution_count": 40,
   "metadata": {
    "collapsed": false
   },
   "outputs": [
    {
     "data": {
      "text/plain": [
       "array([[<matplotlib.axes._subplots.AxesSubplot object at 0x000001F0A5629AC8>]], dtype=object)"
      ]
     },
     "execution_count": 40,
     "metadata": {},
     "output_type": "execute_result"
    },
    {
     "data": {
      "image/png": "[encoded data removed]",
      "text/plain": [
       "<matplotlib.figure.Figure at 0x1f0a54fa048>"
      ]
     },
     "metadata": {},
     "output_type": "display_data"
    }
   ],
   "source": [
    "# virtulizing\n",
    "%matplotlib inline\n",
    "import pandas as pd\n",
    "pd.DataFrame(weights_dic[2080][2]).hist(bins=50)"
   ]
  },
  {
   "cell_type": "code",
   "execution_count": 36,
   "metadata": {
    "collapsed": false
   },
   "outputs": [
    {
     "data": {
      "text/plain": [
       "array([[<matplotlib.axes._subplots.AxesSubplot object at 0x000001F083BA28D0>]], dtype=object)"
      ]
     },
     "execution_count": 36,
     "metadata": {},
     "output_type": "execute_result"
    },
    {
     "data": {
      "image/png": "[encoded data removed]",
      "text/plain": [
       "<matplotlib.figure.Figure at 0x1f08482a358>"
      ]
     },
     "metadata": {},
     "output_type": "display_data"
    }
   ],
   "source": [
    "# virtulizing\n",
    "%matplotlib inline\n",
    "import pandas as pd\n",
    "pd.DataFrame(test_y).hist(bins=100)"
   ]
  },
  {
   "cell_type": "code",
   "execution_count": 37,
   "metadata": {
    "collapsed": false
   },
   "outputs": [
    {
     "data": {
      "text/plain": [
       "array([[<matplotlib.axes._subplots.AxesSubplot object at 0x000001F07F9CED30>]], dtype=object)"
      ]
     },
     "execution_count": 37,
     "metadata": {},
     "output_type": "execute_result"
    },
    {
     "data": {
      "image/png": "[encoded data removed]",
      "text/plain": [
       "<matplotlib.figure.Figure at 0x1f084a11080>"
      ]
     },
     "metadata": {},
     "output_type": "display_data"
    }
   ],
   "source": [
    "# virtulizing\n",
    "%matplotlib inline\n",
    "import pandas as pd\n",
    "pd.DataFrame(train_y).hist(bins=100)"
   ]
  },
  {
   "cell_type": "code",
   "execution_count": 39,
   "metadata": {
    "collapsed": false
   },
   "outputs": [
    {
     "name": "stdout",
     "output_type": "stream",
     "text": [
      "0.005 0.01 0.015 0.02 0.025 0.03 0.035 0.04 0.045 0.05 0.055 0.06 0.065 0.07 0.075 0.08 0.085 0.09 0.095 0.1 0.105 0.11 0.115 0.12 0.125 0.13 0.135 0.14 0.145 0.15 0.155 0.16 0.165 0.17 0.175 0.18 0.185 0.19 0.195 0.2 "
     ]
    }
   ],
   "source": [
    "predict_x = []\n",
    "count = 0\n",
    "with open('CIKM2017_testA/testA.txt') as fhdl:\n",
    "    for line in fhdl:\n",
    "        count += 1\n",
    "        if count % 50 == 0:\n",
    "            print (float(count) / 10000,end=' '),\n",
    "        linenum,label,datas = line.strip().split(',')\n",
    "        label = float(label)\n",
    "        datas = np.asarray(datas.split(' '),dtype=np.int8)\n",
    "        predict_x.append(datas)"
   ]
  },
  {
   "cell_type": "code",
   "execution_count": 43,
   "metadata": {
    "collapsed": true
   },
   "outputs": [],
   "source": [
    "with open('onlinedata.plk','wb') as whdl:\n",
    "    pickle.dump(predict_x,whdl)"
   ]
  },
  {
   "cell_type": "code",
   "execution_count": 27,
   "metadata": {
    "collapsed": false
   },
   "outputs": [
    {
     "ename": "EOFError",
     "evalue": "Ran out of input",
     "output_type": "error",
     "traceback": [
      "\u001b[0;31m---------------------------------------------------------------------------\u001b[0m",
      "\u001b[0;31mEOFError\u001b[0m                                  Traceback (most recent call last)",
      "\u001b[0;32m<ipython-input-27-c51b6e383327>\u001b[0m in \u001b[0;36m<module>\u001b[0;34m()\u001b[0m\n\u001b[1;32m      1\u001b[0m \u001b[1;32mwith\u001b[0m \u001b[0mopen\u001b[0m\u001b[1;33m(\u001b[0m\u001b[1;34m'onlinedata.plk'\u001b[0m\u001b[1;33m,\u001b[0m\u001b[1;34m'rb'\u001b[0m\u001b[1;33m)\u001b[0m \u001b[1;32mas\u001b[0m \u001b[0mfhdl\u001b[0m\u001b[1;33m:\u001b[0m\u001b[1;33m\u001b[0m\u001b[0m\n\u001b[0;32m----> 2\u001b[0;31m     \u001b[0mpredict_x\u001b[0m \u001b[1;33m=\u001b[0m \u001b[0mpickle\u001b[0m\u001b[1;33m.\u001b[0m\u001b[0mload\u001b[0m\u001b[1;33m(\u001b[0m\u001b[0mfhdl\u001b[0m\u001b[1;33m)\u001b[0m\u001b[1;33m\u001b[0m\u001b[0m\n\u001b[0m",
      "\u001b[0;31mEOFError\u001b[0m: Ran out of input"
     ]
    }
   ],
   "source": [
    "with open('onlinedata.plk','rb') as fhdl:\n",
    "    predict_x = pickle.load(fhdl)"
   ]
  },
  {
   "cell_type": "code",
   "execution_count": 44,
   "metadata": {
    "collapsed": true
   },
   "outputs": [],
   "source": [
    "predict_x = np.asarray(predict_x,dtype=np.int8)"
   ]
  },
  {
   "cell_type": "code",
   "execution_count": 45,
   "metadata": {
    "collapsed": true
   },
   "outputs": [],
   "source": [
    "predict_x[predict_x < 0] = 0"
   ]
  },
  {
   "cell_type": "code",
   "execution_count": 70,
   "metadata": {
    "collapsed": true
   },
   "outputs": [],
   "source": [
    "predict_y = sess.run(y,feed_dict={X:np.asarray(predict_x,dtype=np.int8)})"
   ]
  },
  {
   "cell_type": "code",
   "execution_count": 71,
   "metadata": {
    "collapsed": false
   },
   "outputs": [
    {
     "data": {
      "text/plain": [
       "array([[  7.89219189],\n",
       "       [ 10.65508747],\n",
       "       [ 12.67513371],\n",
       "       ..., \n",
       "       [  5.09071112],\n",
       "       [  2.88096619],\n",
       "       [  3.77302599]], dtype=float32)"
      ]
     },
     "execution_count": 71,
     "metadata": {},
     "output_type": "execute_result"
    }
   ],
   "source": [
    "predict_y"
   ]
  },
  {
   "cell_type": "code",
   "execution_count": 53,
   "metadata": {
    "collapsed": false
   },
   "outputs": [],
   "source": [
    "model_w,model_b,_,__ = weights_dic[2080]"
   ]
  },
  {
   "cell_type": "code",
   "execution_count": 58,
   "metadata": {
    "collapsed": false
   },
   "outputs": [],
   "source": [
    "mm = np.dot(np.asarray(predict_x),model_w) + model_b"
   ]
  },
  {
   "cell_type": "code",
   "execution_count": 59,
   "metadata": {
    "collapsed": false
   },
   "outputs": [
    {
     "data": {
      "text/plain": [
       "array([ 10.17464066,  10.30313778,  10.10918713, ...,  17.9347229 ,\n",
       "         4.12181139,  13.42354012], dtype=float32)"
      ]
     },
     "execution_count": 59,
     "metadata": {},
     "output_type": "execute_result"
    }
   ],
   "source": [
    "mm[:,0]"
   ]
  },
  {
   "cell_type": "code",
   "execution_count": 60,
   "metadata": {
    "collapsed": false
   },
   "outputs": [
    {
     "data": {
      "text/plain": [
       "array([[<matplotlib.axes._subplots.AxesSubplot object at 0x000001F0AE1760B8>]], dtype=object)"
      ]
     },
     "execution_count": 60,
     "metadata": {},
     "output_type": "execute_result"
    },
    {
     "data": {
      "image/png": "[encoded data removed]",
      "text/plain": [
       "<matplotlib.figure.Figure at 0x1f0bba48ac8>"
      ]
     },
     "metadata": {},
     "output_type": "display_data"
    }
   ],
   "source": [
    "pd.DataFrame(mm).hist(bins=50)"
   ]
  },
  {
   "cell_type": "code",
   "execution_count": 61,
   "metadata": {
    "collapsed": false
   },
   "outputs": [],
   "source": [
    "result = mm\n",
    "result[result < 0] = 0"
   ]
  },
  {
   "cell_type": "code",
   "execution_count": 63,
   "metadata": {
    "collapsed": false
   },
   "outputs": [
    {
     "data": {
      "text/plain": [
       "array([[<matplotlib.axes._subplots.AxesSubplot object at 0x000001F0AE541A58>]], dtype=object)"
      ]
     },
     "execution_count": 63,
     "metadata": {},
     "output_type": "execute_result"
    },
    {
     "data": {
      "image/png": "[encoded data removed]",
      "text/plain": [
       "<matplotlib.figure.Figure at 0x1f0ae304198>"
      ]
     },
     "metadata": {},
     "output_type": "display_data"
    }
   ],
   "source": [
    "pd.DataFrame(result).hist(bins=50)"
   ]
  },
  {
   "cell_type": "code",
   "execution_count": 64,
   "metadata": {
    "collapsed": false
   },
   "outputs": [
    {
     "data": {
      "text/plain": [
       "array([[ 10.17464066],\n",
       "       [ 10.30313778],\n",
       "       [ 10.10918713],\n",
       "       ..., \n",
       "       [ 17.9347229 ],\n",
       "       [  4.12181139],\n",
       "       [ 13.42354012]], dtype=float32)"
      ]
     },
     "execution_count": 64,
     "metadata": {},
     "output_type": "execute_result"
    }
   ],
   "source": [
    "result"
   ]
  },
  {
   "cell_type": "code",
   "execution_count": 60,
   "metadata": {
    "collapsed": false
   },
   "outputs": [
    {
     "name": "stdout",
     "output_type": "stream",
     "text": [
      "0\n",
      "160\n",
      "320\n",
      "480\n",
      "640\n",
      "800\n",
      "960\n",
      "1000\n",
      "1040\n",
      "1080\n",
      "1120\n",
      "1160\n",
      "1200\n",
      "1240\n",
      "1280\n",
      "1320\n",
      "1360\n",
      "1400\n",
      "1440\n",
      "1480\n",
      "1520\n",
      "1560\n",
      "1600\n",
      "1640\n",
      "1680\n",
      "1720\n",
      "1760\n",
      "1800\n",
      "1840\n",
      "1880\n",
      "1920\n",
      "1960\n",
      "2000\n",
      "2040\n",
      "2080\n",
      "2120\n",
      "2160\n",
      "2200\n",
      "2240\n",
      "2280\n",
      "2320\n",
      "2360\n",
      "2400\n",
      "2440\n",
      "2480\n",
      "2520\n",
      "2560\n",
      "2600\n",
      "2640\n",
      "2680\n",
      "2720\n"
     ]
    }
   ],
   "source": [
    "for itern in range(0,1000,160):\n",
    "    print(itern)\n",
    "    with open('answers/4_11_tf_linear_adam_80_precent_weight_iter_%s.csv' % itern,'w') as whdl:\n",
    "        model_w,model_b = weights_dic[itern]\n",
    "        predict_y = np.dot(np.asarray(predict_x),model_w) + model_b\n",
    "        for value in predict_y[:,0]:\n",
    "            whdl.write(\"%s\\n\" % (max(value,0)))\n",
    "for itern in range(1000,2760,40):\n",
    "    print (itern)\n",
    "    with open('answers/4_11_tf_linear_adam_80_precent_weight_iter_%s.csv' % itern,'w') as whdl:\n",
    "        model_w,model_b = weights_dic[itern]\n",
    "        predict_y = np.dot(np.asarray(predict_x),model_w) + model_b\n",
    "        for value in predict_y[:,0]:\n",
    "            whdl.write(\"%s\\n\" % (max(value,0)))\n",
    "        "
   ]
  },
  {
   "cell_type": "code",
   "execution_count": null,
   "metadata": {
    "collapsed": true
   },
   "outputs": [],
   "source": []
  },
  {
   "cell_type": "code",
   "execution_count": 74,
   "metadata": {
    "collapsed": false
   },
   "outputs": [
    {
     "data": {
      "text/plain": [
       "7.8921919"
      ]
     },
     "execution_count": 74,
     "metadata": {},
     "output_type": "execute_result"
    }
   ],
   "source": [
    "predict_y[0][0]"
   ]
  },
  {
   "cell_type": "code",
   "execution_count": 75,
   "metadata": {
    "collapsed": true
   },
   "outputs": [],
   "source": [
    "with open('answer_4_11.csv','w') as whdl:\n",
    "    for value in predict_y:\n",
    "        whdl.write(\"%s\\n\" % (value[0]))"
   ]
  },
  {
   "cell_type": "code",
   "execution_count": 19,
   "metadata": {
    "collapsed": false
   },
   "outputs": [
    {
     "data": {
      "text/plain": [
       "16.926345488144662"
      ]
     },
     "execution_count": 19,
     "metadata": {},
     "output_type": "execute_result"
    }
   ],
   "source": [
    "model_w,model_b,predict_yy,delta = weights_dic[80]\n",
    "result = predict_yy.T\n",
    "np.sqrt(np.average(np.square(result - np.array(test_y))))"
   ]
  },
  {
   "cell_type": "code",
   "execution_count": 18,
   "metadata": {
    "collapsed": false
   },
   "outputs": [
    {
     "data": {
      "text/plain": [
       "array([[  0.61534843,  -6.69326286,  17.8012188 , ...,   7.73505859,\n",
       "        -43.38261251,   2.96363621]])"
      ]
     },
     "execution_count": 18,
     "metadata": {},
     "output_type": "execute_result"
    }
   ],
   "source": [
    "result - np.array(test_y)"
   ]
  },
  {
   "cell_type": "code",
   "execution_count": 80,
   "metadata": {
    "collapsed": false
   },
   "outputs": [
    {
     "data": {
      "text/plain": [
       "array([[ 16.83102036,  11.27466583,  14.53311634, ...,  10.99525642,\n",
       "          4.09835196,  12.1026535 ]], dtype=float32)"
      ]
     },
     "execution_count": 80,
     "metadata": {},
     "output_type": "execute_result"
    }
   ],
   "source": [
    "predict_yy.T"
   ]
  },
  {
   "cell_type": "code",
   "execution_count": 83,
   "metadata": {
    "collapsed": false
   },
   "outputs": [
    {
     "data": {
      "text/plain": [
       "array([[ 16.83102036],\n",
       "       [ 11.27466583],\n",
       "       [ 14.53311634],\n",
       "       ..., \n",
       "       [ 10.99525642],\n",
       "       [  4.09835196],\n",
       "       [ 12.1026535 ]], dtype=float32)"
      ]
     },
     "execution_count": 83,
     "metadata": {},
     "output_type": "execute_result"
    }
   ],
   "source": [
    "predict_yy"
   ]
  },
  {
   "cell_type": "code",
   "execution_count": 13,
   "metadata": {
    "collapsed": false
   },
   "outputs": [
    {
     "data": {
      "text/plain": [
       "16.926346"
      ]
     },
     "execution_count": 13,
     "metadata": {},
     "output_type": "execute_result"
    }
   ],
   "source": [
    "model_w,model_b,predict_yy,delta = weights_dic[80]\n",
    "np.sqrt(np.average(np.square(delta)))"
   ]
  },
  {
   "cell_type": "code",
   "execution_count": 76,
   "metadata": {
    "collapsed": false
   },
   "outputs": [
    {
     "data": {
      "text/plain": [
       "array([[ -5.56897926, -11.5253334 ,  10.83311653, ...,   6.29525661,\n",
       "        -45.20164871,   9.90265369]], dtype=float32)"
      ]
     },
     "execution_count": 76,
     "metadata": {},
     "output_type": "execute_result"
    }
   ],
   "source": [
    "delta"
   ]
  },
  {
   "cell_type": "code",
   "execution_count": 87,
   "metadata": {
    "collapsed": false
   },
   "outputs": [
    {
     "data": {
      "text/plain": [
       "array([[ -5.56897964, -11.52533417,  10.83311634, ...,   6.29525642,\n",
       "        -45.20164804,   9.9026535 ]])"
      ]
     },
     "execution_count": 87,
     "metadata": {},
     "output_type": "execute_result"
    }
   ],
   "source": [
    "predict_yy.T - test_y"
   ]
  },
  {
   "cell_type": "code",
   "execution_count": 91,
   "metadata": {
    "collapsed": false
   },
   "outputs": [
    {
     "data": {
      "text/plain": [
       "array([[ 16.83102608],\n",
       "       [ 11.27465439],\n",
       "       [ 14.53310394],\n",
       "       ..., \n",
       "       [ 10.99524212],\n",
       "       [  4.0983448 ],\n",
       "       [ 12.10265636]], dtype=float32)"
      ]
     },
     "execution_count": 91,
     "metadata": {},
     "output_type": "execute_result"
    }
   ],
   "source": [
    "predict_y"
   ]
  },
  {
   "cell_type": "code",
   "execution_count": 14,
   "metadata": {
    "collapsed": false
   },
   "outputs": [
    {
     "data": {
      "text/plain": [
       "16.926346708934535"
      ]
     },
     "execution_count": 14,
     "metadata": {},
     "output_type": "execute_result"
    }
   ],
   "source": [
    "model_w,model_b,predict_yy,delta = weights_dic[80]\n",
    "predict_y = np.dot(np.asarray(test_x),model_w) + model_b\n",
    "np.sqrt(np.average(np.square(predict_y.T - np.array(test_y))))"
   ]
  },
  {
   "cell_type": "code",
   "execution_count": 30,
   "metadata": {
    "collapsed": false
   },
   "outputs": [
    {
     "data": {
      "text/plain": [
       "2000"
      ]
     },
     "execution_count": 30,
     "metadata": {},
     "output_type": "execute_result"
    }
   ],
   "source": [
    "len(test_y)"
   ]
  },
  {
   "cell_type": "code",
   "execution_count": 45,
   "metadata": {
    "collapsed": false
   },
   "outputs": [
    {
     "ename": "IndexError",
     "evalue": "too many indices for array",
     "output_type": "error",
     "traceback": [
      "\u001b[0;31m---------------------------------------------------------------------------\u001b[0m",
      "\u001b[0;31mIndexError\u001b[0m                                Traceback (most recent call last)",
      "\u001b[0;32m<ipython-input-45-7b8c0769c1c7>\u001b[0m in \u001b[0;36m<module>\u001b[0;34m()\u001b[0m\n\u001b[1;32m      2\u001b[0m \u001b[1;31m#result = np.dot(np.asarray(test_x),model_w) + model_b\u001b[0m\u001b[1;33m\u001b[0m\u001b[1;33m\u001b[0m\u001b[0m\n\u001b[1;32m      3\u001b[0m \u001b[0mresult\u001b[0m \u001b[1;33m=\u001b[0m \u001b[0mnp\u001b[0m\u001b[1;33m.\u001b[0m\u001b[0mzeros\u001b[0m\u001b[1;33m(\u001b[0m\u001b[1;36m2000\u001b[0m\u001b[1;33m)\u001b[0m\u001b[1;33m\u001b[0m\u001b[0m\n\u001b[0;32m----> 4\u001b[0;31m \u001b[0mnp\u001b[0m\u001b[1;33m.\u001b[0m\u001b[0msqrt\u001b[0m\u001b[1;33m(\u001b[0m\u001b[0mnp\u001b[0m\u001b[1;33m.\u001b[0m\u001b[0maverage\u001b[0m\u001b[1;33m(\u001b[0m\u001b[0mnp\u001b[0m\u001b[1;33m.\u001b[0m\u001b[0msquare\u001b[0m\u001b[1;33m(\u001b[0m\u001b[0mresult\u001b[0m\u001b[1;33m[\u001b[0m\u001b[1;33m:\u001b[0m\u001b[1;33m,\u001b[0m\u001b[1;36m0\u001b[0m\u001b[1;33m]\u001b[0m \u001b[1;33m-\u001b[0m \u001b[0mnp\u001b[0m\u001b[1;33m.\u001b[0m\u001b[0marray\u001b[0m\u001b[1;33m(\u001b[0m\u001b[0mtest_y\u001b[0m\u001b[1;33m)\u001b[0m\u001b[1;33m)\u001b[0m\u001b[1;33m)\u001b[0m\u001b[1;33m)\u001b[0m\u001b[1;33m\u001b[0m\u001b[0m\n\u001b[0m",
      "\u001b[0;31mIndexError\u001b[0m: too many indices for array"
     ]
    }
   ],
   "source": [
    "model_w,model_b = weight_dic[2000]\n",
    "#result = np.dot(np.asarray(test_x),model_w) + model_b\n",
    "result = np.zeros(2000)\n",
    "np.sqrt(np.average(np.square(result[:,0] - np.array(test_y))))"
   ]
  },
  {
   "cell_type": "code",
   "execution_count": null,
   "metadata": {
    "collapsed": true
   },
   "outputs": [],
   "source": []
  }
 ],
 "metadata": {
  "anaconda-cloud": {},
  "kernelspec": {
   "display_name": "Python [conda root]",
   "language": "python",
   "name": "conda-root-py"
  },
  "language_info": {
   "codemirror_mode": {
    "name": "ipython",
    "version": 3
   },
   "file_extension": ".py",
   "mimetype": "text/x-python",
   "name": "python",
   "nbconvert_exporter": "python",
   "pygments_lexer": "ipython3",
   "version": "3.5.2"
  }
 },
 "nbformat": 4,
 "nbformat_minor": 1
}
